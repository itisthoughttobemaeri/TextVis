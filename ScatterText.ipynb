{
 "cells": [
  {
   "cell_type": "markdown",
   "metadata": {},
   "source": [
    "# ScatterText"
   ]
  },
  {
   "cell_type": "markdown",
   "metadata": {},
   "source": [
    "I dati che voglio rappresentare riguardano i discorsi tenuti dai vari candidati nelle elezioni americane del 2012, con lo scopo di evidenziare le parole usate più frequentemente dai candidati Repubblicani e Democratici"
   ]
  },
  {
   "cell_type": "code",
   "execution_count": 4,
   "metadata": {},
   "outputs": [],
   "source": [
    "%matplotlib inline\n",
    "\n",
    "import scattertext as st\n",
    "from pprint import pprint\n",
    "import spacy\n",
    "import pandas as pd\n",
    "import numpy as np\n",
    "from IPython.display import IFrame\n",
    "from scattertext import SampleCorpora, produce_scattertext_explorer\n",
    "from scattertext.CorpusFromPandas import CorpusFromPandas\n",
    "from scattertext.WhitespaceNLP import whitespace_nlp"
   ]
  },
  {
   "cell_type": "markdown",
   "metadata": {},
   "source": [
    "Importo i dati in un DataFrame, poi faccio un parsing per contare i discorsi di candidati democratici e repubblicani"
   ]
  },
  {
   "cell_type": "code",
   "execution_count": 5,
   "metadata": {},
   "outputs": [
    {
     "data": {
      "text/html": [
       "<div>\n",
       "<style scoped>\n",
       "    .dataframe tbody tr th:only-of-type {\n",
       "        vertical-align: middle;\n",
       "    }\n",
       "\n",
       "    .dataframe tbody tr th {\n",
       "        vertical-align: top;\n",
       "    }\n",
       "\n",
       "    .dataframe thead th {\n",
       "        text-align: right;\n",
       "    }\n",
       "</style>\n",
       "<table border=\"1\" class=\"dataframe\">\n",
       "  <thead>\n",
       "    <tr style=\"text-align: right;\">\n",
       "      <th></th>\n",
       "      <th>party</th>\n",
       "      <th>text</th>\n",
       "      <th>speaker</th>\n",
       "    </tr>\n",
       "  </thead>\n",
       "  <tbody>\n",
       "    <tr>\n",
       "      <th>0</th>\n",
       "      <td>democrat</td>\n",
       "      <td>Thank you. Thank you. Thank you. Thank you so ...</td>\n",
       "      <td>BARACK OBAMA</td>\n",
       "    </tr>\n",
       "    <tr>\n",
       "      <th>1</th>\n",
       "      <td>democrat</td>\n",
       "      <td>Thank you so much. Tonight, I am so thrilled a...</td>\n",
       "      <td>MICHELLE OBAMA</td>\n",
       "    </tr>\n",
       "    <tr>\n",
       "      <th>2</th>\n",
       "      <td>democrat</td>\n",
       "      <td>Thank you. It is a singular honor to be here t...</td>\n",
       "      <td>RICHARD DURBIN</td>\n",
       "    </tr>\n",
       "    <tr>\n",
       "      <th>3</th>\n",
       "      <td>democrat</td>\n",
       "      <td>Hey, Delaware. \\nAnd my favorite Democrat, Jil...</td>\n",
       "      <td>JOSEPH BIDEN</td>\n",
       "    </tr>\n",
       "    <tr>\n",
       "      <th>4</th>\n",
       "      <td>democrat</td>\n",
       "      <td>Hello. \\nThank you, Angie. I'm so proud of how...</td>\n",
       "      <td>JILL BIDEN</td>\n",
       "    </tr>\n",
       "  </tbody>\n",
       "</table>\n",
       "</div>"
      ],
      "text/plain": [
       "      party                                               text         speaker\n",
       "0  democrat  Thank you. Thank you. Thank you. Thank you so ...    BARACK OBAMA\n",
       "1  democrat  Thank you so much. Tonight, I am so thrilled a...  MICHELLE OBAMA\n",
       "2  democrat  Thank you. It is a singular honor to be here t...  RICHARD DURBIN\n",
       "3  democrat  Hey, Delaware. \\nAnd my favorite Democrat, Jil...    JOSEPH BIDEN\n",
       "4  democrat  Hello. \\nThank you, Angie. I'm so proud of how...      JILL BIDEN"
      ]
     },
     "execution_count": 5,
     "metadata": {},
     "output_type": "execute_result"
    }
   ],
   "source": [
    "convention_df = st.SampleCorpora.ConventionData2012.get_data()\n",
    "convention_df.head()"
   ]
  },
  {
   "cell_type": "code",
   "execution_count": 6,
   "metadata": {},
   "outputs": [
    {
     "data": {
      "text/html": [
       "<div>\n",
       "<style scoped>\n",
       "    .dataframe tbody tr th:only-of-type {\n",
       "        vertical-align: middle;\n",
       "    }\n",
       "\n",
       "    .dataframe tbody tr th {\n",
       "        vertical-align: top;\n",
       "    }\n",
       "\n",
       "    .dataframe thead th {\n",
       "        text-align: right;\n",
       "    }\n",
       "</style>\n",
       "<table border=\"1\" class=\"dataframe\">\n",
       "  <thead>\n",
       "    <tr style=\"text-align: right;\">\n",
       "      <th></th>\n",
       "      <th>party</th>\n",
       "      <th>text</th>\n",
       "      <th>speaker</th>\n",
       "      <th>parsed</th>\n",
       "    </tr>\n",
       "  </thead>\n",
       "  <tbody>\n",
       "    <tr>\n",
       "      <th>0</th>\n",
       "      <td>democrat</td>\n",
       "      <td>Thank you. Thank you. Thank you. Thank you so ...</td>\n",
       "      <td>BARACK OBAMA</td>\n",
       "      <td>(thank,  , you, .,  , thank,  , you, .,  , tha...</td>\n",
       "    </tr>\n",
       "    <tr>\n",
       "      <th>1</th>\n",
       "      <td>democrat</td>\n",
       "      <td>Thank you so much. Tonight, I am so thrilled a...</td>\n",
       "      <td>MICHELLE OBAMA</td>\n",
       "      <td>(thank,  , you,  , so,  , much, .,  , tonight,...</td>\n",
       "    </tr>\n",
       "    <tr>\n",
       "      <th>2</th>\n",
       "      <td>democrat</td>\n",
       "      <td>Thank you. It is a singular honor to be here t...</td>\n",
       "      <td>RICHARD DURBIN</td>\n",
       "      <td>(thank,  , you, .,  , it,  , is,  , a,  , sing...</td>\n",
       "    </tr>\n",
       "    <tr>\n",
       "      <th>3</th>\n",
       "      <td>democrat</td>\n",
       "      <td>Hey, Delaware. \\nAnd my favorite Democrat, Jil...</td>\n",
       "      <td>JOSEPH BIDEN</td>\n",
       "      <td>(hey, ,,  , delaware, .,  , \\n, and,  , my,  ,...</td>\n",
       "    </tr>\n",
       "    <tr>\n",
       "      <th>4</th>\n",
       "      <td>democrat</td>\n",
       "      <td>Hello. \\nThank you, Angie. I'm so proud of how...</td>\n",
       "      <td>JILL BIDEN</td>\n",
       "      <td>(hello, .,  , \\n, thank,  , you, ,,  , angie, ...</td>\n",
       "    </tr>\n",
       "  </tbody>\n",
       "</table>\n",
       "</div>"
      ],
      "text/plain": [
       "      party                                               text  \\\n",
       "0  democrat  Thank you. Thank you. Thank you. Thank you so ...   \n",
       "1  democrat  Thank you so much. Tonight, I am so thrilled a...   \n",
       "2  democrat  Thank you. It is a singular honor to be here t...   \n",
       "3  democrat  Hey, Delaware. \\nAnd my favorite Democrat, Jil...   \n",
       "4  democrat  Hello. \\nThank you, Angie. I'm so proud of how...   \n",
       "\n",
       "          speaker                                             parsed  \n",
       "0    BARACK OBAMA  (thank,  , you, .,  , thank,  , you, .,  , tha...  \n",
       "1  MICHELLE OBAMA  (thank,  , you,  , so,  , much, .,  , tonight,...  \n",
       "2  RICHARD DURBIN  (thank,  , you, .,  , it,  , is,  , a,  , sing...  \n",
       "3    JOSEPH BIDEN  (hey, ,,  , delaware, .,  , \\n, and,  , my,  ,...  \n",
       "4      JILL BIDEN  (hello, .,  , \\n, thank,  , you, ,,  , angie, ...  "
      ]
     },
     "execution_count": 6,
     "metadata": {},
     "output_type": "execute_result"
    }
   ],
   "source": [
    "nlp = st.WhitespaceNLP.whitespace_nlp\n",
    "corpus = st.CorpusFromPandas(convention_df, \n",
    "                             category_col='party', \n",
    "                             text_col='text',\n",
    "                             nlp=nlp).build()\n",
    "\n",
    "convention_df['parsed'] = convention_df.text.apply(nlp)\n",
    "convention_df.head()"
   ]
  },
  {
   "cell_type": "code",
   "execution_count": 7,
   "metadata": {},
   "outputs": [
    {
     "name": "stdout",
     "output_type": "stream",
     "text": [
      "Document Count\n",
      "party\n",
      "democrat      123\n",
      "republican     66\n",
      "Name: text, dtype: int64\n"
     ]
    }
   ],
   "source": [
    "print(\"Document Count\")\n",
    "print(convention_df.groupby('party')['text'].count())"
   ]
  },
  {
   "cell_type": "markdown",
   "metadata": {},
   "source": [
    "Termini usati più frequentemente dai Democratici"
   ]
  },
  {
   "cell_type": "code",
   "execution_count": 8,
   "metadata": {},
   "outputs": [
    {
     "name": "stdout",
     "output_type": "stream",
     "text": [
      "['middle class',\n",
      " 'forward',\n",
      " 'class',\n",
      " 'middle',\n",
      " 'the middle',\n",
      " 'medicare',\n",
      " 'pay',\n",
      " 'education',\n",
      " 'health',\n",
      " 'president obama']\n"
     ]
    }
   ],
   "source": [
    "term_freq_df = corpus.get_term_freq_df()\n",
    "term_freq_df['Democratic Score'] = corpus.get_scaled_f_scores('democrat')\n",
    "pprint(list(term_freq_df.sort_values(by='Democratic Score', ascending=False).index[:10]))"
   ]
  },
  {
   "cell_type": "markdown",
   "metadata": {},
   "source": [
    "Termini usati più frequentemente dai Repubblicani"
   ]
  },
  {
   "cell_type": "code",
   "execution_count": 9,
   "metadata": {},
   "outputs": [
    {
     "name": "stdout",
     "output_type": "stream",
     "text": [
      "['government',\n",
      " 'administration',\n",
      " 'can do',\n",
      " 'business',\n",
      " 'unemployment',\n",
      " 'success',\n",
      " 'story',\n",
      " 'freedom',\n",
      " 'do better',\n",
      " 'paul']\n"
     ]
    }
   ],
   "source": [
    "term_freq_df = corpus.get_term_freq_df()\n",
    "term_freq_df['Republican Score'] = corpus.get_scaled_f_scores('republican')\n",
    "pprint(list(term_freq_df.sort_values(by='Republican Score', ascending=False).index[:10]))"
   ]
  },
  {
   "cell_type": "code",
   "execution_count": 10,
   "metadata": {},
   "outputs": [
    {
     "data": {
      "text/html": [
       "\n",
       "        <iframe\n",
       "            width=\"900\"\n",
       "            height=\"800\"\n",
       "            src=\"Convention-Visualization.html\"\n",
       "            frameborder=\"0\"\n",
       "            allowfullscreen\n",
       "        ></iframe>\n",
       "        "
      ],
      "text/plain": [
       "<IPython.lib.display.IFrame at 0x7f9bcd2eb890>"
      ]
     },
     "execution_count": 10,
     "metadata": {},
     "output_type": "execute_result"
    }
   ],
   "source": [
    "html = st.produce_scattertext_explorer(corpus,\n",
    "         category='democrat',\n",
    "         category_name='Democratic',\n",
    "         not_category_name='Republican',\n",
    "         width_in_pixels=1000,\n",
    "         metadata=convention_df['speaker'])\n",
    "open(\"Convention-Visualization.html\", 'wb').write(html.encode('utf-8'))\n",
    "IFrame(src=\"Convention-Visualization.html\", width = 900, height=800)"
   ]
  },
  {
   "cell_type": "markdown",
   "metadata": {},
   "source": [
    "Voglio visualizzare i principali argomenti invece delle parole\n",
    "FeatsFromOnlyEmpath estrae solo le features importanti, caratterizzando un documento con l'argomento di cui parla"
   ]
  },
  {
   "cell_type": "code",
   "execution_count": 11,
   "metadata": {},
   "outputs": [
    {
     "data": {
      "text/html": [
       "\n",
       "        <iframe\n",
       "            width=\"900\"\n",
       "            height=\"800\"\n",
       "            src=\"Convention-Visualization-Empath.html\"\n",
       "            frameborder=\"0\"\n",
       "            allowfullscreen\n",
       "        ></iframe>\n",
       "        "
      ],
      "text/plain": [
       "<IPython.lib.display.IFrame at 0x7f9bcd345550>"
      ]
     },
     "execution_count": 11,
     "metadata": {},
     "output_type": "execute_result"
    }
   ],
   "source": [
    "from scattertext import FeatsFromOnlyEmpath\n",
    "\n",
    "feat_builder = st.FeatsFromOnlyEmpath()\n",
    "empath_corpus = st.CorpusFromParsedDocuments(convention_df,\n",
    "                                             category_col='party',\n",
    "                                             feats_from_spacy_doc=feat_builder,\n",
    "                                             parsed_col='text').build()\n",
    "html = st.produce_scattertext_explorer(empath_corpus,\n",
    "                                       category='democrat',\n",
    "                                       category_name='Democratic',\n",
    "                                        not_category_name='Republican',\n",
    "                                       width_in_pixels=1000,\n",
    "                                       metadata=convention_df['speaker'],\n",
    "                                       use_non_text_features=True,\n",
    "                                       use_full_doc=True,\n",
    "                                       topic_model_term_lists=feat_builder.get_top_model_term_lists())\n",
    "open(\"Convention-Visualization-Empath.html\", 'wb').write(html.encode('utf-8'))\n",
    "IFrame(src=\"Convention-Visualization-Empath.html\", width = 900, height=800)"
   ]
  },
  {
   "cell_type": "markdown",
   "metadata": {},
   "source": [
    "## Analisi basata sulle emoji"
   ]
  },
  {
   "cell_type": "markdown",
   "metadata": {},
   "source": [
    "Utilizzo un insieme di tweet per analizzare le emozioni attraverso le emoji presenti nel post"
   ]
  },
  {
   "cell_type": "code",
   "execution_count": 12,
   "metadata": {},
   "outputs": [],
   "source": [
    "from scattertext.termranking import OncePerDocFrequencyRanker\n",
    "import nltk, urllib.request, io, agefromname, zipfile\n",
    "import warnings\n",
    "warnings.filterwarnings(\"ignore\")"
   ]
  },
  {
   "cell_type": "code",
   "execution_count": 13,
   "metadata": {},
   "outputs": [
    {
     "data": {
      "text/plain": [
       "Tweet Id                                                     721318437075685382\n",
       "Date                                                                 2016-04-16\n",
       "Hour                                                                      12:44\n",
       "User Name                                                        Bill Schulhoff\n",
       "Nickname                                                          BillSchulhoff\n",
       "Bio                           Husband,Dad,GrandDad,Ordained Minister, Umpire...\n",
       "Tweet content                 Wind 3.2 mph NNE. Barometer 30.20 in, Rising s...\n",
       "Favs                                                                        NaN\n",
       "RTs                                                                         NaN\n",
       "Latitude                                                                40.7603\n",
       "Longitude                                                              -72.9547\n",
       "Country                                                                      US\n",
       "Place (as appears on Bio)                                    East Patchogue, NY\n",
       "Profile picture               http://pbs.twimg.com/profile_images/3788000007...\n",
       "Followers                                                                   386\n",
       "Following                                                                   705\n",
       "Listed                                                                       24\n",
       "Tweet language (ISO 639-1)                                                   en\n",
       "Tweet Url                     http://www.twitter.com/BillSchulhoff/status/72...\n",
       "parse                         (wind, 3.2, mph, nne, ., barometer, 30.20, in,...\n",
       "Name: 0, dtype: object"
      ]
     },
     "execution_count": 13,
     "metadata": {},
     "output_type": "execute_result"
    }
   ],
   "source": [
    "with zipfile.ZipFile(io.BytesIO(urllib.request.urlopen(\n",
    "    'http://followthehashtag.com/content/uploads/USA-Geolocated-tweets-free-dataset-Followthehashtag.zip'\n",
    ").read())) as zf:\n",
    "    df = pd.read_excel(zf.open('dashboard_x_usa_x_filter_nativeretweets.xlsx'))\n",
    "\n",
    "nlp = st.tweet_tokenizier_factory(nltk.tokenize.TweetTokenizer())\n",
    "df['parse'] = df['Tweet content'].apply(nlp)\n",
    "\n",
    "df.iloc[0]"
   ]
  },
  {
   "cell_type": "markdown",
   "metadata": {},
   "source": [
    "Il codice seguente usa il package AgeFromName per trovare la probabilità che ogni utente sia maschio o femmina, sulla base del nome"
   ]
  },
  {
   "cell_type": "code",
   "execution_count": null,
   "metadata": {},
   "outputs": [],
   "source": [
    "male_prob = agefromname.AgeFromName().get_all_name_male_prob()\n",
    "male_prob.iloc[0]"
   ]
  },
  {
   "cell_type": "markdown",
   "metadata": {},
   "source": [
    "Ora consideriamo solo gli utenti che sappiamo classificare con una probabilità almeno del 90% come maschi o femmine"
   ]
  },
  {
   "cell_type": "code",
   "execution_count": 15,
   "metadata": {},
   "outputs": [],
   "source": [
    "df['first_name'] = df['User Name'].apply(lambda x: x.split()[0].lower() if type(x) == str and len(x.split()) > 0 else x)\n",
    "df_aug = pd.merge(df, male_prob, left_on='first_name', right_index=True)\n",
    "df_aug['gender'] = df_aug['prob'].apply(lambda x: 'm' if x > 0.9 else 'f' if x < 0.1 else '?')\n",
    "df_mf = df_aug[df_aug['gender'].isin(['m', 'f'])]"
   ]
  },
  {
   "cell_type": "markdown",
   "metadata": {},
   "source": [
    "Poi costruiamo un corpus di sole emoji"
   ]
  },
  {
   "cell_type": "code",
   "execution_count": 16,
   "metadata": {},
   "outputs": [],
   "source": [
    "corpus = st.CorpusFromParsedDocuments(\n",
    "    df_mf,\n",
    "    parsed_col='parse',\n",
    "    category_col='gender',\n",
    "    feats_from_spacy_doc=st.FeatsFromSpacyDocOnlyEmoji()\n",
    ").build()"
   ]
  },
  {
   "cell_type": "code",
   "execution_count": 17,
   "metadata": {},
   "outputs": [
    {
     "data": {
      "text/html": [
       "\n",
       "        <iframe\n",
       "            width=\"900\"\n",
       "            height=\"800\"\n",
       "            src=\"EmojiGender.html\"\n",
       "            frameborder=\"0\"\n",
       "            allowfullscreen\n",
       "        ></iframe>\n",
       "        "
      ],
      "text/plain": [
       "<IPython.lib.display.IFrame at 0x7f9bd6f75d10>"
      ]
     },
     "execution_count": 17,
     "metadata": {},
     "output_type": "execute_result"
    }
   ],
   "source": [
    "html = st.produce_scattertext_explorer(\n",
    "    corpus,\n",
    "    category='f',\n",
    "    category_name='Female',\n",
    "    not_category_name='Male',\n",
    "    use_full_doc=True,\n",
    "    term_ranker=OncePerDocFrequencyRanker,\n",
    "    sort_by_dist=False,\n",
    "    metadata=(df_mf['User Name']\n",
    "              + ' (@' + df_mf['Nickname'] + ') '\n",
    "              + df_mf['Date'].astype(str)),\n",
    "    width_in_pixels=1000\n",
    ")\n",
    "open(\"EmojiGender.html\", 'wb').write(html.encode('utf-8'))\n",
    "IFrame(src=\"EmojiGender.html\", width = 900, height=800)"
   ]
  },
  {
   "cell_type": "markdown",
   "metadata": {},
   "source": [
    "Fonte: https://github.com/JasonKessler/scattertext"
   ]
  }
 ],
 "metadata": {
  "kernelspec": {
   "display_name": "Python 3",
   "language": "python",
   "name": "python3"
  },
  "language_info": {
   "codemirror_mode": {
    "name": "ipython",
    "version": 3
   },
   "file_extension": ".py",
   "mimetype": "text/x-python",
   "name": "python",
   "nbconvert_exporter": "python",
   "pygments_lexer": "ipython3",
   "version": "3.7.6"
  }
 },
 "nbformat": 4,
 "nbformat_minor": 4
}
