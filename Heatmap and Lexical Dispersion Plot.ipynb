{
 "cells": [
  {
   "cell_type": "markdown",
   "metadata": {},
   "source": [
    "# Text Visualization of Hansel & Gretel"
   ]
  },
  {
   "cell_type": "code",
   "execution_count": null,
   "metadata": {},
   "outputs": [],
   "source": [
    "import numpy as np\n",
    "import matplotlib\n",
    "import matplotlib.pyplot as plt\n",
    "import math"
   ]
  },
  {
   "cell_type": "code",
   "execution_count": null,
   "metadata": {},
   "outputs": [],
   "source": [
    "text = open('hansel_gretel.txt').read().replace('\\n', \" \").lower()"
   ]
  },
  {
   "cell_type": "markdown",
   "metadata": {},
   "source": [
    "## Lexical dispersion plot of the most significative words in Hansel & Gretel"
   ]
  },
  {
   "cell_type": "markdown",
   "metadata": {},
   "source": [
    "### Yellowbrick library"
   ]
  },
  {
   "cell_type": "code",
   "execution_count": null,
   "metadata": {},
   "outputs": [],
   "source": [
    "#pip install yellowbrick"
   ]
  },
  {
   "cell_type": "markdown",
   "metadata": {},
   "source": [
    "Libreria utilizzata: https://pypi.org/project/yellowbrick/ "
   ]
  },
  {
   "cell_type": "code",
   "execution_count": null,
   "metadata": {},
   "outputs": [],
   "source": [
    "from yellowbrick.text import DispersionPlot, dispersion # For the dispersion plot\n",
    "import collections # To order dict"
   ]
  },
  {
   "cell_type": "code",
   "execution_count": null,
   "metadata": {},
   "outputs": [],
   "source": [
    "text_clean = ''\n",
    "\n",
    "punctuations = '''!()-[]{};:'\"\\,<>/?@#$%^&*._~'''\n",
    "\n",
    "for t in text:\n",
    "    if t not in punctuations:\n",
    "        text_clean = text_clean + t"
   ]
  },
  {
   "cell_type": "code",
   "execution_count": null,
   "metadata": {},
   "outputs": [],
   "source": [
    "# Divide the text cleaned into words (array of array because of the library)\n",
    "text_words = []\n",
    "text_words.append([t for t in text_clean.split(' ')])\n",
    "#text_words"
   ]
  },
  {
   "cell_type": "code",
   "execution_count": null,
   "metadata": {},
   "outputs": [],
   "source": [
    "# Let's see most frequent words\n",
    "# Not necessary\n",
    "\n",
    "frequencies_dict = {}\n",
    "\n",
    "for w in text_words[0]:\n",
    "    count = text_words[0].count(w)\n",
    "    frequencies_dict[w] = count\n",
    "\n",
    "#collections.OrderedDict(sorted(frequencies_dict.items(), key=lambda t: t[1], reverse = True))"
   ]
  },
  {
   "cell_type": "code",
   "execution_count": null,
   "metadata": {},
   "outputs": [],
   "source": [
    "# Choose words whose occurence in the text will be plotted\n",
    "target_words = ['hansel', 'gretel', 'witch', 'bread', 'forest']\n",
    "\n",
    "# Create the visualizer and draw the plot\n",
    "visualizer = DispersionPlot(target_words, color = 'red')\n",
    "visualizer.fit(text_words)\n",
    "visualizer.show()"
   ]
  },
  {
   "cell_type": "code",
   "execution_count": null,
   "metadata": {},
   "outputs": [],
   "source": [
    "len(text_words[0])"
   ]
  },
  {
   "cell_type": "markdown",
   "metadata": {},
   "source": [
    "### Seaborn library "
   ]
  },
  {
   "cell_type": "code",
   "execution_count": null,
   "metadata": {},
   "outputs": [],
   "source": [
    "#pip install seaborn"
   ]
  },
  {
   "cell_type": "markdown",
   "metadata": {},
   "source": [
    "Libreria utilizzata: https://pypi.org/project/seaborn/"
   ]
  },
  {
   "cell_type": "code",
   "execution_count": null,
   "metadata": {},
   "outputs": [],
   "source": [
    "import pandas as pd\n",
    "import seaborn as sns\n",
    "sns.set(style = 'ticks', font = 'Avenir')"
   ]
  },
  {
   "cell_type": "code",
   "execution_count": null,
   "metadata": {},
   "outputs": [],
   "source": [
    "# Initialize arrays for values for the plot and the values for the target word\n",
    "target_values = []\n",
    "count = []\n",
    "c = 0\n",
    "for t in target_words:\n",
    "    for w in text_words[0]:\n",
    "        if t != w:\n",
    "            c = c + 1\n",
    "        else:\n",
    "            count.append(c)\n",
    "    target_values.append(count)\n",
    "    count = []\n",
    "    c = 0\n",
    "\n",
    "print(target_values)"
   ]
  },
  {
   "cell_type": "code",
   "execution_count": null,
   "metadata": {},
   "outputs": [],
   "source": [
    "#print(target_words)\n",
    "#print(text_words[0])"
   ]
  },
  {
   "cell_type": "code",
   "execution_count": null,
   "metadata": {},
   "outputs": [],
   "source": [
    "# Initialize the figure\n",
    "f, ax = plt.subplots()\n",
    "\n",
    "pal = sns.color_palette(\"husl\", 8)\n",
    "\n",
    "sns.stripplot(data = target_values, dodge = True, alpha = .6, zorder = 1, \n",
    "              orient = 'h', jitter = 0, palette = pal, size = 6, marker = 'd')\n",
    "\n",
    "\n",
    "ax.set_yticklabels(target_words, size = 14)\n",
    "ax.set_ylabel(\"target words\", size = 12)\n",
    "ax.set_xlabel(\"nth words\", size = 12)\n",
    "\n",
    "plt.title('Dispersion plot of significative words in Hansel & Gretel', size = 18, va = 'bottom')"
   ]
  },
  {
   "cell_type": "markdown",
   "metadata": {},
   "source": [
    "## Heat map of Hansel & Gretel sentence length"
   ]
  },
  {
   "cell_type": "code",
   "execution_count": null,
   "metadata": {},
   "outputs": [],
   "source": [
    "#pip install plotly"
   ]
  },
  {
   "cell_type": "markdown",
   "metadata": {},
   "source": [
    "Libreria utilizzata: https://pypi.org/project/plotly/, https://pypi.org/project/plotly-express/"
   ]
  },
  {
   "cell_type": "code",
   "execution_count": null,
   "metadata": {},
   "outputs": [],
   "source": [
    "import plotly.express as px\n",
    "import plotly.graph_objects as go"
   ]
  },
  {
   "cell_type": "code",
   "execution_count": null,
   "metadata": {},
   "outputs": [],
   "source": [
    "# Splitting text into sentences point separated, removing last value\n",
    "sentences = text.split(\".\")\n",
    "sentences.pop(len(sentences)-1)"
   ]
  },
  {
   "cell_type": "code",
   "execution_count": null,
   "metadata": {},
   "outputs": [],
   "source": [
    "# Array of sentences with no punctuation\n",
    "\n",
    "sentences_clean = []\n",
    "\n",
    "punctuations = '''!()-[]{};:'\"\\,<>/?@#$%^&*_~'''\n",
    "\n",
    "for s in sentences:\n",
    "    clean = \"\"\n",
    "    for char in s:\n",
    "        if char not in punctuations:\n",
    "            clean = clean + char\n",
    "    sentences_clean.append(clean)"
   ]
  },
  {
   "cell_type": "code",
   "execution_count": null,
   "metadata": {},
   "outputs": [],
   "source": [
    "print(\"Number of sentences:\", len(sentences_clean))\n",
    "print(\"Third sentence:\", sentences[2])\n",
    "print(\"Third sentence:\", sentences_clean[2])"
   ]
  },
  {
   "cell_type": "code",
   "execution_count": null,
   "metadata": {},
   "outputs": [],
   "source": [
    "sentences_count = []\n",
    "\n",
    "for s in sentences_clean:\n",
    "    sentences_count.append(len([len(s) for s in s.split()]))\n",
    "    \n",
    "print(\"Third sentence length:\", sentences_count[2]) "
   ]
  },
  {
   "cell_type": "code",
   "execution_count": null,
   "metadata": {},
   "outputs": [],
   "source": [
    "print(\"Squared root: \", np.sqrt(len(sentences_count)))\n",
    "sqrt = np.sqrt(len(sentences_count))"
   ]
  },
  {
   "cell_type": "code",
   "execution_count": null,
   "metadata": {},
   "outputs": [],
   "source": [
    "print(len(sentences_count))"
   ]
  },
  {
   "cell_type": "code",
   "execution_count": null,
   "metadata": {},
   "outputs": [],
   "source": [
    "sentences_count_zero = sentences_count[:]"
   ]
  },
  {
   "cell_type": "code",
   "execution_count": null,
   "metadata": {},
   "outputs": [],
   "source": [
    "# Adding NaN values for the matrix to be squared\n",
    "\n",
    "n = math.ceil(sqrt)**2 - len(sentences_count)\n",
    "\n",
    "for i in range(n):\n",
    "    sentences_count_zero.append(\"NaN\")\n",
    "\n",
    "print(len(sentences_count_zero))"
   ]
  },
  {
   "cell_type": "code",
   "execution_count": null,
   "metadata": {},
   "outputs": [],
   "source": [
    "#print(sentences_count)"
   ]
  },
  {
   "cell_type": "code",
   "execution_count": null,
   "metadata": {},
   "outputs": [],
   "source": [
    "#print(sentences_count_zero)"
   ]
  },
  {
   "cell_type": "code",
   "execution_count": null,
   "metadata": {},
   "outputs": [],
   "source": [
    "print(\"Array of lengths: \", sentences_count_zero)\n",
    "print(\"Length: \", len(sentences_count_zero))\n",
    "print(\"Last sentence: \", sentences[116])"
   ]
  },
  {
   "cell_type": "code",
   "execution_count": null,
   "metadata": {},
   "outputs": [],
   "source": [
    "matrix = np.array(sentences_count_zero, dtype = float)\n",
    "matrix.shape = (math.ceil(sqrt), math.ceil(sqrt))\n",
    "print(matrix)"
   ]
  },
  {
   "cell_type": "code",
   "execution_count": null,
   "metadata": {},
   "outputs": [],
   "source": [
    "# Find min and max values\n",
    "min_value = min(sentences_count)\n",
    "max_value = max(sentences_count)\n",
    "mean_value = np.mean(sentences_count)\n",
    "\n",
    "bounds = [min_value, 20, 40, 60, 80, max_value]\n",
    "\n",
    "print(\"min: \", min_value, \" max: \", max_value,\" mean: \", mean_value)"
   ]
  },
  {
   "cell_type": "code",
   "execution_count": null,
   "metadata": {},
   "outputs": [],
   "source": [
    "fig = px.imshow(matrix, labels = dict(color=\"Lenght in words\"), color_continuous_scale='Oranges')\n",
    "fig.update_xaxes(showticklabels=False).update_yaxes(showticklabels=False)\n",
    "\n",
    "# Style the heatmap\n",
    "fig.update_layout(\n",
    "    title_text = \"Sentence length of Hansel & Gretel\",\n",
    "    title_x = 0.5,\n",
    "    #coloraxis_reversescale = True,\n",
    "    font = dict(\n",
    "        family = \"Avenir\",\n",
    "        size = 16,\n",
    "        color = \"#7f7f7f\"\n",
    "    ),\n",
    "    coloraxis_colorbar = dict(tickvals = bounds, title_side = 'right', x = 0.8),\n",
    ")\n",
    "\n",
    "fig.update_traces(hovertemplate = \"Length: %{z}\")\n",
    "\n",
    "fig.show()"
   ]
  },
  {
   "cell_type": "code",
   "execution_count": null,
   "metadata": {},
   "outputs": [],
   "source": [
    "# Basic version with matplotlib\n",
    "\n",
    "fig, axs = plt.subplots()\n",
    "fig.suptitle('Sentence length of Hansel and Gretel')\n",
    "\n",
    "plot = axs.imshow(matrix, cmap = 'coolwarm_r')\n",
    "axs.axis('off')\n",
    "\n",
    "cb = fig.colorbar(plot, ax = axs, orientation='vertical', ticks = [], aspect = 8)\n",
    "#cb.set_label('Length in words', labelpad = 12)\n",
    "cb.outline.set_visible(False)\n",
    "cb.ax.text(x = 23, y = 9, s = 'short', color = 'white', ha = 'left')\n",
    "cb.ax.text(x = 25, y = 99, s = 'long', color = 'white', ha = 'left')\n",
    "\n",
    "plt.show()"
   ]
  },
  {
   "cell_type": "code",
   "execution_count": null,
   "metadata": {},
   "outputs": [],
   "source": []
  }
 ],
 "metadata": {
  "kernelspec": {
   "display_name": "Python 3",
   "language": "python",
   "name": "python3"
  },
  "language_info": {
   "codemirror_mode": {
    "name": "ipython",
    "version": 3
   },
   "file_extension": ".py",
   "mimetype": "text/x-python",
   "name": "python",
   "nbconvert_exporter": "python",
   "pygments_lexer": "ipython3",
   "version": "3.7.4"
  }
 },
 "nbformat": 4,
 "nbformat_minor": 2
}
